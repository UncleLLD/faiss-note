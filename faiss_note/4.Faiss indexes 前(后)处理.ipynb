{
 "cells": [
  {
   "cell_type": "markdown",
   "metadata": {},
   "source": [
    "# Pre and post processing\n",
    "在某些情形下，需要对Index做前处理或后处理。\n",
    "\n",
    "## ID映射\n",
    "默认情况下，faiss会为每个输入的向量记录一个次序id，在使用中也可以为向量指定任意我们需要的id。  \n",
    "部分index类型有add_with_ids方法，可以为每个向量对应一个64-bit的id，搜索的时候返回这个指定的id。"
   ]
  },
  {
   "cell_type": "code",
   "execution_count": 32,
   "metadata": {
    "ExecuteTime": {
     "end_time": "2022-02-07T10:58:27.045775Z",
     "start_time": "2022-02-07T10:58:27.011027Z"
    }
   },
   "outputs": [
    {
     "name": "stdout",
     "output_type": "stream",
     "text": [
      "[100000 100001 100002 ... 101997 101998 101999] 2000\n"
     ]
    }
   ],
   "source": [
    "# 导入faiss\n",
    "import sys\n",
    "import faiss\n",
    "import numpy as np \n",
    "\n",
    "# 获取数据和Id\n",
    "d = 512\n",
    "n_data = 2000\n",
    "data = np.random.rand(n_data, d).astype('float32')\n",
    "ids = np.arange(100000, 102000)  # id设定为6位数整数\n",
    "# ids = np.array(ids).astype('float32')\n",
    "print(ids, len(ids))"
   ]
  },
  {
   "cell_type": "code",
   "execution_count": 33,
   "metadata": {
    "ExecuteTime": {
     "end_time": "2022-02-07T10:58:28.554562Z",
     "start_time": "2022-02-07T10:58:28.466828Z"
    }
   },
   "outputs": [
    {
     "name": "stdout",
     "output_type": "stream",
     "text": [
      "[[100000 100123 100622 100472 100930]\n",
      " [100001 100232 100746 101171 101729]\n",
      " [100002 100149 101357 101492 101563]\n",
      " [100003 101472 101727 100378 101738]\n",
      " [100004 101378 101151 100828 101951]]\n"
     ]
    }
   ],
   "source": [
    "nlist = 10  # 将数据集向量分为10个维诺空间\n",
    "# quantizer = faiss.IndexFlatL2(d)  # 欧式距离\n",
    "quantizer = faiss.IndexFlatIP(d)    # 点乘\n",
    "index = faiss.IndexIVFFlat(quantizer, d, nlist, faiss.METRIC_L2)\n",
    "index.train(data)\n",
    "index.add_with_ids(data, ids)\n",
    "d, i = index.search(data[:5], 5)\n",
    "print(i)  # 返回的id应该是我们自己设定的"
   ]
  },
  {
   "cell_type": "markdown",
   "metadata": {},
   "source": [
    "但是对有些Index类型，并不支持add_with_ids，因此需要与其他Index类型结合，将默认的id映射到指定id，用IndexIDMap类实现。  \n",
    "指定的ids不能是字符串，只能是整数。"
   ]
  },
  {
   "cell_type": "code",
   "execution_count": 34,
   "metadata": {
    "ExecuteTime": {
     "end_time": "2022-02-07T10:58:31.286465Z",
     "start_time": "2022-02-07T10:58:31.271717Z"
    }
   },
   "outputs": [
    {
     "ename": "RuntimeError",
     "evalue": "Error in virtual void faiss::Index::add_with_ids(faiss::Index::idx_t, const float*, const idx_t*) at Index.cpp:48: add_with_ids not implemented for this type of index",
     "output_type": "error",
     "traceback": [
      "\u001b[0;31m---------------------------------------------------------------------------\u001b[0m",
      "\u001b[0;31mRuntimeError\u001b[0m                              Traceback (most recent call last)",
      "\u001b[0;32m<ipython-input-34-b9f76f5462a4>\u001b[0m in \u001b[0;36m<module>\u001b[0;34m\u001b[0m\n\u001b[1;32m      1\u001b[0m \u001b[0mindex\u001b[0m \u001b[0;34m=\u001b[0m \u001b[0mfaiss\u001b[0m\u001b[0;34m.\u001b[0m\u001b[0mIndexFlatL2\u001b[0m\u001b[0;34m(\u001b[0m\u001b[0mdata\u001b[0m\u001b[0;34m.\u001b[0m\u001b[0mshape\u001b[0m\u001b[0;34m[\u001b[0m\u001b[0;36m1\u001b[0m\u001b[0;34m]\u001b[0m\u001b[0;34m)\u001b[0m\u001b[0;34m\u001b[0m\u001b[0m\n\u001b[0;32m----> 2\u001b[0;31m \u001b[0mindex\u001b[0m\u001b[0;34m.\u001b[0m\u001b[0madd_with_ids\u001b[0m\u001b[0;34m(\u001b[0m\u001b[0mdata\u001b[0m\u001b[0;34m,\u001b[0m \u001b[0mids\u001b[0m\u001b[0;34m)\u001b[0m  \u001b[0;31m# 报错\u001b[0m\u001b[0;34m\u001b[0m\u001b[0m\n\u001b[0m",
      "\u001b[0;32m~/.conda/envs/tf2.1/lib/python3.6/site-packages/faiss/__init__.py\u001b[0m in \u001b[0;36mreplacement_add_with_ids\u001b[0;34m(self, x, ids)\u001b[0m\n\u001b[1;32m    142\u001b[0m         \u001b[0;32massert\u001b[0m \u001b[0md\u001b[0m \u001b[0;34m==\u001b[0m \u001b[0mself\u001b[0m\u001b[0;34m.\u001b[0m\u001b[0md\u001b[0m\u001b[0;34m\u001b[0m\u001b[0m\n\u001b[1;32m    143\u001b[0m         \u001b[0;32massert\u001b[0m \u001b[0mids\u001b[0m\u001b[0;34m.\u001b[0m\u001b[0mshape\u001b[0m \u001b[0;34m==\u001b[0m \u001b[0;34m(\u001b[0m\u001b[0mn\u001b[0m\u001b[0;34m,\u001b[0m \u001b[0;34m)\u001b[0m\u001b[0;34m,\u001b[0m \u001b[0;34m'not same nb of vectors as ids'\u001b[0m\u001b[0;34m\u001b[0m\u001b[0m\n\u001b[0;32m--> 144\u001b[0;31m         \u001b[0mself\u001b[0m\u001b[0;34m.\u001b[0m\u001b[0madd_with_ids_c\u001b[0m\u001b[0;34m(\u001b[0m\u001b[0mn\u001b[0m\u001b[0;34m,\u001b[0m \u001b[0mswig_ptr\u001b[0m\u001b[0;34m(\u001b[0m\u001b[0mx\u001b[0m\u001b[0;34m)\u001b[0m\u001b[0;34m,\u001b[0m \u001b[0mswig_ptr\u001b[0m\u001b[0;34m(\u001b[0m\u001b[0mids\u001b[0m\u001b[0;34m)\u001b[0m\u001b[0;34m)\u001b[0m\u001b[0;34m\u001b[0m\u001b[0m\n\u001b[0m\u001b[1;32m    145\u001b[0m \u001b[0;34m\u001b[0m\u001b[0m\n\u001b[1;32m    146\u001b[0m     \u001b[0;32mdef\u001b[0m \u001b[0mreplacement_assign\u001b[0m\u001b[0;34m(\u001b[0m\u001b[0mself\u001b[0m\u001b[0;34m,\u001b[0m \u001b[0mx\u001b[0m\u001b[0;34m,\u001b[0m \u001b[0mk\u001b[0m\u001b[0;34m)\u001b[0m\u001b[0;34m:\u001b[0m\u001b[0;34m\u001b[0m\u001b[0m\n",
      "\u001b[0;32m~/.conda/envs/tf2.1/lib/python3.6/site-packages/faiss/swigfaiss_avx2.py\u001b[0m in \u001b[0;36madd_with_ids\u001b[0;34m(self, n, x, xids)\u001b[0m\n\u001b[1;32m   1294\u001b[0m \u001b[0;34m\u001b[0m\u001b[0m\n\u001b[1;32m   1295\u001b[0m     \u001b[0;32mdef\u001b[0m \u001b[0madd_with_ids\u001b[0m\u001b[0;34m(\u001b[0m\u001b[0mself\u001b[0m\u001b[0;34m,\u001b[0m \u001b[0mn\u001b[0m\u001b[0;34m,\u001b[0m \u001b[0mx\u001b[0m\u001b[0;34m,\u001b[0m \u001b[0mxids\u001b[0m\u001b[0;34m)\u001b[0m\u001b[0;34m:\u001b[0m\u001b[0;34m\u001b[0m\u001b[0m\n\u001b[0;32m-> 1296\u001b[0;31m         \u001b[0;32mreturn\u001b[0m \u001b[0m_swigfaiss_avx2\u001b[0m\u001b[0;34m.\u001b[0m\u001b[0mIndex_add_with_ids\u001b[0m\u001b[0;34m(\u001b[0m\u001b[0mself\u001b[0m\u001b[0;34m,\u001b[0m \u001b[0mn\u001b[0m\u001b[0;34m,\u001b[0m \u001b[0mx\u001b[0m\u001b[0;34m,\u001b[0m \u001b[0mxids\u001b[0m\u001b[0;34m)\u001b[0m\u001b[0;34m\u001b[0m\u001b[0m\n\u001b[0m\u001b[1;32m   1297\u001b[0m \u001b[0;34m\u001b[0m\u001b[0m\n\u001b[1;32m   1298\u001b[0m     \u001b[0;32mdef\u001b[0m \u001b[0msearch\u001b[0m\u001b[0;34m(\u001b[0m\u001b[0mself\u001b[0m\u001b[0;34m,\u001b[0m \u001b[0mn\u001b[0m\u001b[0;34m,\u001b[0m \u001b[0mx\u001b[0m\u001b[0;34m,\u001b[0m \u001b[0mk\u001b[0m\u001b[0;34m,\u001b[0m \u001b[0mdistances\u001b[0m\u001b[0;34m,\u001b[0m \u001b[0mlabels\u001b[0m\u001b[0;34m)\u001b[0m\u001b[0;34m:\u001b[0m\u001b[0;34m\u001b[0m\u001b[0m\n",
      "\u001b[0;31mRuntimeError\u001b[0m: Error in virtual void faiss::Index::add_with_ids(faiss::Index::idx_t, const float*, const idx_t*) at Index.cpp:48: add_with_ids not implemented for this type of index"
     ]
    }
   ],
   "source": [
    "index = faiss.IndexFlatL2(data.shape[1]) \n",
    "index.add_with_ids(data, ids)  # 报错"
   ]
  },
  {
   "cell_type": "code",
   "execution_count": 35,
   "metadata": {
    "ExecuteTime": {
     "end_time": "2022-02-07T10:58:33.681942Z",
     "start_time": "2022-02-07T10:58:33.673803Z"
    }
   },
   "outputs": [],
   "source": [
    "index2 = faiss.IndexIDMap(index)  \n",
    "index2.add_with_ids(data, ids)  # 将index的id映射到index2的id,会维持一个映射表"
   ]
  },
  {
   "cell_type": "markdown",
   "metadata": {},
   "source": [
    "## 数据转换\n",
    "有些时候需要在索引之前转换数据。转换类继承了VectorTransform类，将输入向量转换为输出向量。  \n",
    "1)随机旋转,类名RandomRotationMatri,用以均衡向量中的元素，一般在IndexPQ和IndexLSH之前；  \n",
    "2）PCA,类名PCAMatrix，降维；  \n",
    "3）改变维度，类名RemapDimensionsTransform，可以升高或降低向量维数\n",
    "\n",
    "### 举例：PCA降维（通过IndexPreTransform）\n",
    "输入向量是2048维，需要减少到16byte。"
   ]
  },
  {
   "cell_type": "code",
   "execution_count": 27,
   "metadata": {
    "ExecuteTime": {
     "end_time": "2022-01-17T08:00:13.082403Z",
     "start_time": "2022-01-17T08:00:08.873244Z"
    }
   },
   "outputs": [],
   "source": [
    "data = np.random.rand(n_data, 2048).astype('float32')\n",
    "# the IndexIVFPQ will be in 256D not 2048\n",
    "coarse_quantizer = faiss.IndexFlatL2 (256) \n",
    "sub_index = faiss.IndexIVFPQ (coarse_quantizer, 256, 16, 16, 8)\n",
    "# PCA 2048->256\n",
    "# 降维后随机旋转 (第四个参数)\n",
    "pca_matrix = faiss.PCAMatrix (2048, 256, 0, True) \n",
    "\n",
    "#- the wrapping index\n",
    "index = faiss.IndexPreTransform (pca_matrix, sub_index)\n",
    "\n",
    "# will also train the PCA\n",
    "index.train(data)  #数据需要是2048维\n",
    "# PCA will be applied prior to addition\n",
    "index.add(data)"
   ]
  },
  {
   "cell_type": "markdown",
   "metadata": {},
   "source": [
    "### 举例：升维\n",
    "有时候需要在向量中插入0升高维度，一般是我们需要\n",
    "* 1）d是4的整数倍，有利于举例计算； \n",
    "* 2）d是M的整数倍。"
   ]
  },
  {
   "cell_type": "code",
   "execution_count": 36,
   "metadata": {
    "ExecuteTime": {
     "end_time": "2022-02-07T11:02:03.119593Z",
     "start_time": "2022-02-07T11:02:03.110706Z"
    }
   },
   "outputs": [
    {
     "name": "stdout",
     "output_type": "stream",
     "text": [
      "512\n"
     ]
    }
   ],
   "source": [
    "d = 512\n",
    "M = 8   # M是在维度方向上分割的子空间个数\n",
    "d2 = int((d + M - 1) / M) * M\n",
    "print(d2)\n",
    "remapper = faiss.RemapDimensionsTransform (d, d2, True)\n",
    "index_pq = faiss.IndexPQ(d2, M, 8)\n",
    "index = faiss.IndexPreTransform (remapper, index_pq) #后续可以添加数据/索引"
   ]
  },
  {
   "cell_type": "markdown",
   "metadata": {},
   "source": [
    "## 对搜索结果重新排序\n",
    "当查询向量时，可以用真实距离值对结果进行重新排序。  \n",
    "在下面的例子中，搜索阶段会首先选取4*10个结果，然后对这些结果计算真实距离值，再从中选取10个结果返回。IndexRefineFlat保存了全部的向量信息，内存开销不容小觑。"
   ]
  },
  {
   "cell_type": "code",
   "execution_count": 29,
   "metadata": {
    "ExecuteTime": {
     "end_time": "2022-01-17T08:00:22.913716Z",
     "start_time": "2022-01-17T08:00:20.978300Z"
    }
   },
   "outputs": [
    {
     "name": "stdout",
     "output_type": "stream",
     "text": [
      "[[   0 1747 1124  120 1625  129  345 1848 1833 1431]\n",
      " [   1  614  522 1578 1662 1813  737 1479  181  919]\n",
      " [   2 1182 1372 1901  871  523 1807   74  685  335]\n",
      " [   3 1130 1127 1426  181 1479 1064 1525 1113  931]\n",
      " [   4  696  944  217 1359 1987 1518 1880  755  490]]\n"
     ]
    }
   ],
   "source": [
    "data = np.random.rand(n_data, d).astype('float32')\n",
    "nbits_per_index = 4\n",
    "q = faiss.IndexPQ (d, M, nbits_per_index)\n",
    "rq = faiss.IndexRefineFlat(q)\n",
    "rq.train(data)\n",
    "rq.add(data)\n",
    "rq.k_factor = 4\n",
    "dis, ind = rq.search (data[:5], 10)\n",
    "print(ind)"
   ]
  },
  {
   "cell_type": "markdown",
   "metadata": {},
   "source": [
    "## 综合多个index返回的结果\n",
    "当数据集分布在多个index中，需要在每个index中都执行搜索，然后使用IndexShards综合得到结果。同样也适用于index分布在不同的GPU的情况。"
   ]
  }
 ],
 "metadata": {
  "kernelspec": {
   "display_name": "tf2.1",
   "language": "python",
   "name": "tf2.1"
  },
  "language_info": {
   "codemirror_mode": {
    "name": "ipython",
    "version": 3
   },
   "file_extension": ".py",
   "mimetype": "text/x-python",
   "name": "python",
   "nbconvert_exporter": "python",
   "pygments_lexer": "ipython3",
   "version": "3.6.2"
  },
  "toc": {
   "base_numbering": 1,
   "nav_menu": {},
   "number_sections": true,
   "sideBar": true,
   "skip_h1_title": false,
   "title_cell": "Table of Contents",
   "title_sidebar": "Contents",
   "toc_cell": false,
   "toc_position": {},
   "toc_section_display": true,
   "toc_window_display": false
  }
 },
 "nbformat": 4,
 "nbformat_minor": 2
}
