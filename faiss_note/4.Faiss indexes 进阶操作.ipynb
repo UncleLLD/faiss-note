{
 "cells": [
  {
   "cell_type": "markdown",
   "metadata": {},
   "source": [
    "# index进阶操作\n",
    "下面介绍的方法只支持部分Index类型。"
   ]
  },
  {
   "cell_type": "markdown",
   "metadata": {},
   "source": [
    "## 从index中恢复出原始数据\n",
    "给定id，可以使用reconstruct或者reconstruct_n方法从index中回复出原始向量。  \n",
    "支持IndexFlat, IndexIVFFlat (需要与make_direct_map结合), IndexIVFPQ, IndexPreTransform这几类索引类型。"
   ]
  },
  {
   "cell_type": "code",
   "execution_count": 6,
   "metadata": {
    "ExecuteTime": {
     "end_time": "2022-02-08T07:13:32.053602Z",
     "start_time": "2022-02-08T07:13:32.046502Z"
    }
   },
   "outputs": [],
   "source": [
    "# 导入faiss\n",
    "import sys\n",
    "import numpy as np \n",
    "import faiss\n",
    "\n",
    "#生成数据\n",
    "d = 16\n",
    "n_data = 500\n",
    "data = np.random.rand(n_data, d).astype('float32')"
   ]
  },
  {
   "cell_type": "code",
   "execution_count": 5,
   "metadata": {
    "ExecuteTime": {
     "end_time": "2022-02-08T07:12:40.484308Z",
     "start_time": "2022-02-08T07:12:40.472612Z"
    }
   },
   "outputs": [
    {
     "name": "stdout",
     "output_type": "stream",
     "text": [
      "[0.83482474 0.6438837  0.24734788 0.6537704  0.61774486 0.9384649\n",
      " 0.12293569 0.80372137 0.6918489  0.6864977  0.6374077  0.52337897\n",
      " 0.09799734 0.14641039 0.5328222  0.88016546]\n",
      "(10, 16)\n"
     ]
    }
   ],
   "source": [
    "index = faiss.IndexFlatL2(d)\n",
    "index.add(data)\n",
    "re_data = index.reconstruct(0)  #指定需要恢复的向量的id,每次只能恢复一个向量\n",
    "print(re_data)\n",
    "re_data_n = index.reconstruct_n(0, 10) # 从第0个向量开始，连续取10个\n",
    "print(re_data_n.shape)"
   ]
  },
  {
   "cell_type": "markdown",
   "metadata": {},
   "source": [
    "## 从index中移除向量\n",
    "使用remove_ids方法可以移除index中的部分向量，调用了IDSelector对象（或IDSelectorBatch批量操作）标识每个向量是否应该被移除。因为要遍历标识数据库中的每一个向量，所以只有在需要移除大部分向量时才建议使用。   \n",
    "支持IndexFlat, IndexIVFFlat, IndexIVFPQ, IDMap。"
   ]
  },
  {
   "cell_type": "code",
   "execution_count": 11,
   "metadata": {
    "ExecuteTime": {
     "end_time": "2022-02-08T07:23:51.668967Z",
     "start_time": "2022-02-08T07:23:51.658518Z"
    }
   },
   "outputs": [
    {
     "name": "stdout",
     "output_type": "stream",
     "text": [
      "500\n",
      "495\n"
     ]
    }
   ],
   "source": [
    "index = faiss.IndexFlatL2(d)\n",
    "index.add(data)\n",
    "print(index.ntotal)\n",
    "# index.remove_ids(np.array([0]))\n",
    "index.remove_ids(np.arange(5)) # 需要移除的向量的id\n",
    "print(index.ntotal)  #移除了5个向量，还剩495个"
   ]
  },
  {
   "cell_type": "markdown",
   "metadata": {},
   "source": [
    "## 搜索距离范围内的向量\n",
    "以查询向量为中心，返回距离在一定范围内的结果，如返回数据库中与查询向量距离小于0.3的结果。  \n",
    "支持IndexFlat, IndexIVFFlat，只支持在CPU使用。"
   ]
  },
  {
   "cell_type": "code",
   "execution_count": 17,
   "metadata": {
    "ExecuteTime": {
     "end_time": "2022-02-08T07:32:51.161597Z",
     "start_time": "2022-02-08T07:32:51.119986Z"
    },
    "scrolled": true
   },
   "outputs": [
    {
     "name": "stdout",
     "output_type": "stream",
     "text": [
      "1.9466463339328766\n",
      "[1.5384469 1.4711096 1.6992308 1.3599523 1.8639128 1.8728075 1.816922\n",
      " 0.        1.6398396 1.6408762 1.5378789 1.6585189 1.590842  1.8358855\n",
      " 1.7690482 1.6529568 1.6374359 1.9222212 1.7712178 1.7988551 1.6408085\n",
      " 1.3410411 1.6889251 1.9464017 1.7024078 1.6522535 1.8238969 1.8631847\n",
      " 1.5418944 1.670974  1.6715947 1.5081348 1.9099058 1.8395643 1.4895053\n",
      " 1.8079453 1.934546  0.6599543 1.6656785 1.8234447 1.8075504 1.548338\n",
      " 1.6937177 1.6249175 1.729368  1.3271422 1.7416501 1.3548261 1.0927346\n",
      " 1.7518137 1.7552993 1.896307  1.9200239 1.6671427 1.2523265 1.1999724\n",
      " 1.8288059 1.6901855 1.3587701 1.9093046 1.6236575 1.6918842 1.9014039\n",
      " 1.8057953 1.9295995 1.8126392]\n",
      "[1.6781944  1.6698971  0.         1.905075   1.2732563  1.8204238\n",
      " 0.7628526  1.7816186  1.301338   1.6780018  1.6545635  1.6984217\n",
      " 1.4493203  1.6713542  1.537207   1.5003004  1.6203446  0.824362\n",
      " 1.4711096  1.5239989  1.6029797  1.6971319  1.337048   1.7034856\n",
      " 1.2767963  1.7624524  1.901829   1.3511816  1.7108729  0.7751142\n",
      " 1.7164278  1.7713003  0.90857565 1.4278122  1.8474922  1.4491313\n",
      " 1.4352927  1.7064259  1.6955849  1.824855   1.2134202  1.2110215\n",
      " 1.459719   1.3473287  1.603931   1.6431534  1.9166925  1.297124\n",
      " 1.6608323  0.954386   1.3093655  1.2556585  1.4246114  1.9071138\n",
      " 1.6585203  1.181331   1.3955002  1.8366412  1.4554479  1.8914598\n",
      " 1.9038694  1.5533493  1.4605153  1.3316728  1.1256341  1.4339149\n",
      " 0.98044544 1.5410831  0.9028618  1.2111411  1.8140744  1.6053402\n",
      " 1.42471    1.9080161  1.619217   1.7909881  1.371387   1.5482172\n",
      " 1.6865985  1.8430685  1.7086227  1.1592953  1.9445957  1.86112\n",
      " 1.9262257  1.1428056  1.9131099  1.1875193  1.5940969  1.888087\n",
      " 1.9143637  1.8768654  1.1045247  1.9368241  1.60408    0.9170128\n",
      " 1.8888283  0.98666286 1.2195413  1.4605683  1.7673925  1.635049\n",
      " 1.9208401  1.681262   1.1764605  1.4240292  1.4972473  1.9276001\n",
      " 1.4129896  1.4303442  0.73805165 1.710277   1.3814571  1.7112839\n",
      " 1.2163604  1.8131944  1.0360564  1.7986903  1.4174187  1.8276937\n",
      " 1.5105457  1.909564   1.699083   1.7194629  1.5950986  1.329985\n",
      " 1.3965563  1.2130578  1.8877728  0.84847486 1.3567262  1.8569231\n",
      " 1.6550059  1.6447781  1.105884   1.9460237  1.443865   1.5296811\n",
      " 1.3227925  1.526395   1.6378742  1.5647403  1.839086   1.7195833\n",
      " 1.2111061  1.6579268  1.4656825  1.8722528  1.6359022  1.8060739\n",
      " 0.8323817  1.7267382  1.388557   0.8495468  1.5946512  1.7971337\n",
      " 1.4035878  1.5542881  1.9240556  1.9365174  1.578675   1.1193347\n",
      " 1.8796601  1.9358166  1.9066932  1.6251965  1.8400447  1.2772393\n",
      " 1.9200763  1.8264031  1.8106583  1.5018897  1.5844185  1.5264275\n",
      " 1.7154095  1.3320069  1.7229189  1.9042165  1.793323   1.9336419\n",
      " 1.899312   1.6293273  0.99493396 1.5397438  1.5304623 ]\n"
     ]
    }
   ],
   "source": [
    "index = faiss.IndexFlatL2(d)\n",
    "index.add(data)\n",
    "dist = float(np.linalg.norm(data[3] - data[0])) * 0.99  # 定义一个半径/阈值\n",
    "print(dist)\n",
    "_, dis, ind = index.range_search(data[[49], :], dist)  # 用第50个向量查询\n",
    "print(dis)  # 返回结果是一个三元组，分别是limit(返回的结果的数量), distance, index\n",
    "\n",
    "_, dis, ind = index.range_search(data[[9], :], dist)  # 用第10个向量查询\n",
    "print(dis)  # 返回结果是一个三元组，分别是limit(返回的结果的数量), distance, index"
   ]
  },
  {
   "cell_type": "markdown",
   "metadata": {},
   "source": [
    "## 拆分/合并index\n",
    "可以将多个index合并，需要注意的是，多个Index的数据应该满足同一分布，并且用同一分布的数据训练index，如果多个Index的数据分布不同，合并时并不会报错，但在理论上会降低索引的精度，应该用与合并后的数据集同分布的训练集再次训练。"
   ]
  },
  {
   "cell_type": "code",
   "execution_count": 34,
   "metadata": {
    "ExecuteTime": {
     "end_time": "2022-02-08T08:37:45.959664Z",
     "start_time": "2022-02-08T08:37:45.893051Z"
    }
   },
   "outputs": [
    {
     "name": "stdout",
     "output_type": "stream",
     "text": [
      "500\n",
      "[[  0 454  12 345 278  95 306 296 161 322]\n",
      " [  1  53 477 455  36  63 337 140 287 138]\n",
      " [  2  99 113  63 479 229  36 337 173   1]\n",
      " [  3 492 197 478 484   5 152 272 271  85]\n",
      " [  4 346   8 194 312 215  69 342 126 260]]\n"
     ]
    }
   ],
   "source": [
    "nlist = 10\n",
    "quantizer = faiss.IndexFlatL2(d)\n",
    "index1 = faiss.IndexIVFFlat(quantizer, d, nlist)\n",
    "index1.train(data)\n",
    "index1.add(data[:250])\n",
    "\n",
    "index2 = faiss.IndexIVFFlat(quantizer, d, nlist)\n",
    "index2.train(data)\n",
    "index2.add(data[250:])\n",
    "\n",
    "index1.merge_from(index2, 250)  # merger_from(other_index, add_id)  add_id 控制新增元素的下标id\n",
    "print(index1.ntotal)  # 合并后应该包含500个向量\n",
    "\n",
    "dis, ind = index1.search(data[:5], 10)\n",
    "print(ind)"
   ]
  }
 ],
 "metadata": {
  "kernelspec": {
   "display_name": "tf2.1",
   "language": "python",
   "name": "tf2.1"
  },
  "language_info": {
   "codemirror_mode": {
    "name": "ipython",
    "version": 3
   },
   "file_extension": ".py",
   "mimetype": "text/x-python",
   "name": "python",
   "nbconvert_exporter": "python",
   "pygments_lexer": "ipython3",
   "version": "3.6.2"
  },
  "toc": {
   "base_numbering": 1,
   "nav_menu": {},
   "number_sections": true,
   "sideBar": true,
   "skip_h1_title": false,
   "title_cell": "Table of Contents",
   "title_sidebar": "Contents",
   "toc_cell": false,
   "toc_position": {},
   "toc_section_display": true,
   "toc_window_display": false
  }
 },
 "nbformat": 4,
 "nbformat_minor": 1
}
